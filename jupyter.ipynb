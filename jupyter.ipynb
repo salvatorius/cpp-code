{
 "cells": [
  {
   "cell_type": "code",
   "execution_count": 17,
   "metadata": {
    "vscode": {
     "languageId": "cpp"
    }
   },
   "outputs": [
    {
     "name": "stdout",
     "output_type": "stream",
     "text": [
      "     6.146\n",
      "     4.800\n",
      "  6097.369\n"
     ]
    }
   ],
   "source": [
    "#include <iomanip>\n",
    "#include <iostream>\n",
    "using namespace std;\n",
    "\n",
    "double x = 6.1457, y = 4.8;\n",
    "double result = pow(x, y);\n",
    "\n",
    "cout << fixed << setprecision(3);\n",
    "\n",
    "cout << setw(10) << x << endl;\n",
    "cout << setw(10) << y << endl;\n",
    "cout << setw(10) << result << endl;"
   ]
  }
 ],
 "metadata": {
  "kernelspec": {
   "display_name": "C++17",
   "language": "C++17",
   "name": "xcpp17"
  },
  "language_info": {
   "codemirror_mode": "text/x-c++src",
   "file_extension": ".cpp",
   "mimetype": "text/x-c++src",
   "name": "C++17",
   "version": "17"
  },
  "orig_nbformat": 4
 },
 "nbformat": 4,
 "nbformat_minor": 2
}
